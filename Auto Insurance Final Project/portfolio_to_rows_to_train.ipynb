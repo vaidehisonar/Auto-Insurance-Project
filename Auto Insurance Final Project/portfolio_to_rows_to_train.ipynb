{
 "cells": [
  {
   "cell_type": "code",
   "execution_count": 160,
   "metadata": {},
   "outputs": [],
   "source": [
    "from pandas import ExcelWriter\n",
    "from pandas import ExcelFile\n",
    "from scipy import stats\n",
    "import pandas as pd # storing and mnipulating the dataset\n",
    "import matplotlib.pyplot as plt # for data visualization \n",
    "import seaborn as sns # for data visualization \n",
    "import warnings  \n",
    "warnings.filterwarnings(\"ignore\") # to not display any warnings generated \n",
    "import numpy as np # for array computations\n",
    "Driver_Total_Senior_Ages_65_69_mean=[]\n",
    "Driver_Total_Teenager_Age_15_19_mean=[]\n",
    "Driver_Total_Licensed_In_State_mode=[]\n",
    "Driver_Total_mode=[]\n",
    "Vehicle_Performance_High_count=[]\n",
    "Vehicle_Youthful_Driver_Indicator_Y_count=[]\n",
    "sys_renewed_n_0_count=[]\n",
    "sys_renewed_n_1_count=[]\n",
    "annual_premium_sum=[]\n",
    "summary=[]\n",
    "Vehicle_Age_In_Years_mean=[]\n",
    "Vehicle_New_Cost_Amount_mean=[]\n",
    "Vehicle_Symbol_mode=[]\n",
    "#df= pd.read_csv('D:/Big Data/2019_Fall_testing_portfolios/2019_Fall_testing_portfolios/test_portfolio_1.csv') #df_assg1 holds the dataset\n"
   ]
  },
  {
   "cell_type": "code",
   "execution_count": 2,
   "metadata": {},
   "outputs": [],
   "source": [
    "# import os,glob\n",
    "# folder_path = 'D:/Big Data/2019_Fall_testing_portfolios/2019_Fall_testing_portfolios/'\n",
    "# print(folder_path)\n",
    "# for filename in glob.glob(os.path.join(folder_path, '*')):\n",
    "#     p = pd.read_csv(filename)\n",
    "#     print(\"Driver_Total_Senior_Ages_65_69:::\",p['Driver_Total_Senior_Ages_65_69'].unique())\n",
    "#     print(\"Driver_Total_Teenager_Age_15_19:::\",p['Driver_Total_Teenager_Age_15_19'].unique())\n",
    "#     print(\"Driver_Total_Licensed_In_State:::\",p['Driver_Total_Licensed_In_State'].unique())\n",
    "#     print(\"Driver_Total:::\",p['Driver_Total'].unique())\n",
    "#     print(\"Vehicle_Performance:::\",p['Vehicle_Performance'].unique())\n",
    "#     print(\"Vehicle_Youthful_Driver_Indicator:::\",p['Vehicle_Youthful_Driver_Indicator'].unique())\n",
    "#     print(\"sys_renewed:::\",p['SYS_Renewed'].unique())\n",
    "   \n",
    "#     #print(filename)\n",
    "#X_train=X1_train[['Driver_Total_Senior_Ages_65_69_mean','Driver_Total_Teenager_Age_15_19_mean','Driver_Total_Licensed_In_State_mode_f','Driver_Total_mode_f','Vehicle_Performance_High_count','Vehicle_Youthful_Driver_Indicator_Y_count','sys_renewed_n_0_count','sys_renewed_n_1_count']]\n"
   ]
  },
  {
   "cell_type": "code",
   "execution_count": null,
   "metadata": {},
   "outputs": [],
   "source": []
  },
  {
   "cell_type": "code",
   "execution_count": 169,
   "metadata": {},
   "outputs": [],
   "source": [
    "import os,glob\n",
    "folder_path = 'c:/Users/tv5ra/Downloads/test/'\n",
    "#print(folder_path)\n",
    "for filename in glob.glob(os.path.join(folder_path, '*')):\n",
    "    p = pd.read_csv(filename)\n",
    "    #print(filename)\n",
    "    #print(p.shape)\n",
    "    p = pd.get_dummies(p)\n",
    "    #print(p.shape)\n",
    "    Vehicle_Age_In_Years_mean.append(p['Vehicle_Age_In_Years'].mean())\n",
    "    Vehicle_New_Cost_Amount_mean.append(p['Vehicle_New_Cost_Amount'].mean())\n",
    "    #Vehicle_Symbol_mode.append(stats.mode(p['Vehicle_Symbol']))\n",
    "    #Vehicle_Youthful_Driver_Indicator_Y_count.append(p['Vehicle_Youthful_Driver_Indicator_Y'].sum())\n",
    "    Vehicle_Performance_High_count.append(p['Vehicle_Performance_High'].sum())\n",
    "    #sys_renewed_n_0_count.append(p['SYS_Renewed_N'].sum())\n",
    "    sys_renewed_n_1_count.append(p['SYS_Renewed_Y'].sum())\n",
    "    annual_premium_sum.append(p['Annual_Premium'].sum())\n",
    "    \n",
    "   "
   ]
  },
  {
   "cell_type": "code",
   "execution_count": 170,
   "metadata": {},
   "outputs": [],
   "source": [
    "summary=os.listdir('c:/Users/tv5ra/Downloads/test/')"
   ]
  },
  {
   "cell_type": "code",
   "execution_count": 101,
   "metadata": {},
   "outputs": [
    {
     "name": "stdout",
     "output_type": "stream",
     "text": [
      "c:/Users/tv5ra/Downloads/test\\test_portfolio_9.csv\n"
     ]
    }
   ],
   "source": [
    "print(filename)"
   ]
  },
  {
   "cell_type": "code",
   "execution_count": 163,
   "metadata": {},
   "outputs": [
    {
     "data": {
      "text/plain": [
       "(998, 1026)"
      ]
     },
     "execution_count": 163,
     "metadata": {},
     "output_type": "execute_result"
    }
   ],
   "source": [
    "p.shape"
   ]
  },
  {
   "cell_type": "code",
   "execution_count": 168,
   "metadata": {},
   "outputs": [
    {
     "ename": "IndexError",
     "evalue": "list index out of range",
     "output_type": "error",
     "traceback": [
      "\u001b[1;31m---------------------------------------------------------------------------\u001b[0m",
      "\u001b[1;31mIndexError\u001b[0m                                Traceback (most recent call last)",
      "\u001b[1;32m<ipython-input-168-05eb8a5a3d1f>\u001b[0m in \u001b[0;36m<module>\u001b[1;34m\u001b[0m\n\u001b[0;32m      3\u001b[0m \u001b[0mi\u001b[0m\u001b[1;33m=\u001b[0m\u001b[1;36m0\u001b[0m\u001b[1;33m\u001b[0m\u001b[1;33m\u001b[0m\u001b[0m\n\u001b[0;32m      4\u001b[0m \u001b[1;32mfor\u001b[0m \u001b[0mi\u001b[0m \u001b[1;32min\u001b[0m \u001b[0mrange\u001b[0m\u001b[1;33m(\u001b[0m\u001b[1;36m330\u001b[0m\u001b[1;33m)\u001b[0m\u001b[1;33m:\u001b[0m\u001b[1;33m\u001b[0m\u001b[1;33m\u001b[0m\u001b[0m\n\u001b[1;32m----> 5\u001b[1;33m           \u001b[0mVehicle_Symbol_mode1\u001b[0m\u001b[1;33m.\u001b[0m\u001b[0mappend\u001b[0m\u001b[1;33m(\u001b[0m\u001b[0mVehicle_Symbol_mode\u001b[0m\u001b[1;33m[\u001b[0m\u001b[0mi\u001b[0m\u001b[1;33m]\u001b[0m\u001b[1;33m[\u001b[0m\u001b[1;36m0\u001b[0m\u001b[1;33m]\u001b[0m\u001b[1;33m)\u001b[0m\u001b[1;33m\u001b[0m\u001b[1;33m\u001b[0m\u001b[0m\n\u001b[0m\u001b[0;32m      6\u001b[0m           \u001b[1;31m#Driver_Total_mode_f.append(Driver_Total_mode[i][0][0])\u001b[0m\u001b[1;33m\u001b[0m\u001b[1;33m\u001b[0m\u001b[1;33m\u001b[0m\u001b[0m\n",
      "\u001b[1;31mIndexError\u001b[0m: list index out of range"
     ]
    }
   ],
   "source": [
    "Vehicle_Symbol_mode1=[]\n",
    "Driver_Total_mode_f=[]\n",
    "i=0\n",
    "for i in range(330):\n",
    "          Vehicle_Symbol_mode1.append(Vehicle_Symbol_mode[i][0][0])\n",
    "          #Driver_Total_mode_f.append(Driver_Total_mode[i][0][0])"
   ]
  },
  {
   "cell_type": "code",
   "execution_count": null,
   "metadata": {},
   "outputs": [],
   "source": [
    "Driver_Total_Licensed_In_State_mode_f=[]\n",
    "Driver_Total_mode_f=[]\n",
    "i=0\n",
    "for i in range(330):\n",
    "          Driver_Total_Licensed_In_State_mode_f.append(Driver_Total_Licensed_In_State_mode[i][0][0])\n",
    "          Driver_Total_mode_f.append(Driver_Total_mode[i][0][0])"
   ]
  },
  {
   "cell_type": "code",
   "execution_count": 171,
   "metadata": {},
   "outputs": [
    {
     "data": {
      "text/html": [
       "<div>\n",
       "<style scoped>\n",
       "    .dataframe tbody tr th:only-of-type {\n",
       "        vertical-align: middle;\n",
       "    }\n",
       "\n",
       "    .dataframe tbody tr th {\n",
       "        vertical-align: top;\n",
       "    }\n",
       "\n",
       "    .dataframe thead th {\n",
       "        text-align: right;\n",
       "    }\n",
       "</style>\n",
       "<table border=\"1\" class=\"dataframe\">\n",
       "  <thead>\n",
       "    <tr style=\"text-align: right;\">\n",
       "      <th></th>\n",
       "      <th>Vehicle_Age_In_Years_mean</th>\n",
       "      <th>Vehicle_New_Cost_Amount_mean</th>\n",
       "      <th>Vehicle_Performance_High_count</th>\n",
       "      <th>sys_renewed_n_1_count</th>\n",
       "      <th>annual_premium_sum</th>\n",
       "    </tr>\n",
       "  </thead>\n",
       "  <tbody>\n",
       "    <tr>\n",
       "      <th>0</th>\n",
       "      <td>7.076000</td>\n",
       "      <td>332.022000</td>\n",
       "      <td>9</td>\n",
       "      <td>882</td>\n",
       "      <td>331804.80</td>\n",
       "    </tr>\n",
       "    <tr>\n",
       "      <th>1</th>\n",
       "      <td>6.908818</td>\n",
       "      <td>412.844689</td>\n",
       "      <td>8</td>\n",
       "      <td>897</td>\n",
       "      <td>343363.38</td>\n",
       "    </tr>\n",
       "    <tr>\n",
       "      <th>2</th>\n",
       "      <td>7.084000</td>\n",
       "      <td>252.009000</td>\n",
       "      <td>11</td>\n",
       "      <td>894</td>\n",
       "      <td>324789.90</td>\n",
       "    </tr>\n",
       "    <tr>\n",
       "      <th>3</th>\n",
       "      <td>6.872000</td>\n",
       "      <td>265.029000</td>\n",
       "      <td>12</td>\n",
       "      <td>896</td>\n",
       "      <td>337672.39</td>\n",
       "    </tr>\n",
       "    <tr>\n",
       "      <th>4</th>\n",
       "      <td>7.054054</td>\n",
       "      <td>230.246246</td>\n",
       "      <td>11</td>\n",
       "      <td>885</td>\n",
       "      <td>344144.45</td>\n",
       "    </tr>\n",
       "  </tbody>\n",
       "</table>\n",
       "</div>"
      ],
      "text/plain": [
       "   Vehicle_Age_In_Years_mean  Vehicle_New_Cost_Amount_mean  \\\n",
       "0                   7.076000                    332.022000   \n",
       "1                   6.908818                    412.844689   \n",
       "2                   7.084000                    252.009000   \n",
       "3                   6.872000                    265.029000   \n",
       "4                   7.054054                    230.246246   \n",
       "\n",
       "   Vehicle_Performance_High_count  sys_renewed_n_1_count  annual_premium_sum  \n",
       "0                               9                    882           331804.80  \n",
       "1                               8                    897           343363.38  \n",
       "2                              11                    894           324789.90  \n",
       "3                              12                    896           337672.39  \n",
       "4                              11                    885           344144.45  "
      ]
     },
     "execution_count": 171,
     "metadata": {},
     "output_type": "execute_result"
    }
   ],
   "source": [
    "df_summarized = pd.DataFrame(list(zip(Vehicle_Age_In_Years_mean,\n",
    "Vehicle_New_Cost_Amount_mean,\n",
    "Vehicle_Performance_High_count,\n",
    "sys_renewed_n_1_count,annual_premium_sum)), columns =['Vehicle_Age_In_Years_mean',\n",
    "'Vehicle_New_Cost_Amount_mean',\n",
    "'Vehicle_Performance_High_count',\n",
    "'sys_renewed_n_1_count','annual_premium_sum']) \n",
    "df_summarized.head()"
   ]
  },
  {
   "cell_type": "code",
   "execution_count": 172,
   "metadata": {},
   "outputs": [
    {
     "name": "stdout",
     "output_type": "stream",
     "text": [
      "<class 'pandas.core.frame.DataFrame'>\n",
      "RangeIndex: 330 entries, 0 to 329\n",
      "Data columns (total 15 columns):\n",
      "Unnamed: 0                                   330 non-null int64\n",
      "Driver_Total_Senior_Ages_65_69_mean          330 non-null float64\n",
      "Driver_Total_Teenager_Age_15_19_mean         330 non-null float64\n",
      "Driver_Total_Licensed_In_State_mode_f        330 non-null int64\n",
      "Driver_Total_mode_f                          330 non-null int64\n",
      "Vehicle_Performance_High_count               330 non-null int64\n",
      "Vehicle_Youthful_Driver_Indicator_Y_count    330 non-null int64\n",
      "sys_renewed_n_0_count                        330 non-null int64\n",
      "sys_renewed_n_1_count                        330 non-null int64\n",
      "Driver_Total_Female_mode_f                   330 non-null int64\n",
      "Vehicle_Symbol_mode_f                        330 non-null int64\n",
      "Annual_premium_sum                           330 non-null float64\n",
      "Vehicle_New_Cost_Amount_mean                 330 non-null float64\n",
      "Vehicle_Age_In_Years_mean                    330 non-null float64\n",
      "Loss_Amount_sum                              330 non-null float64\n",
      "dtypes: float64(6), int64(9)\n",
      "memory usage: 38.8 KB\n"
     ]
    }
   ],
   "source": [
    "X1_train = pd.read_excel('c:/Users/tv5ra/Downloads/final_x_train.xlsx')\n",
    "X1_train.info()"
   ]
  },
  {
   "cell_type": "code",
   "execution_count": 180,
   "metadata": {},
   "outputs": [],
   "source": [
    "#X_train = pd.read_csv('c:/Users/tv5ra/Downloads/final_x_train')\n",
    "X_train=X1_train[['Vehicle_Age_In_Years_mean','Vehicle_New_Cost_Amount_mean','Vehicle_Performance_High_count','sys_renewed_n_1_count','Annual_premium_sum']]\n",
    "y_train=X1_train[['Loss_Amount_sum']]\n",
    "annual_prem=df_summarized[['annual_premium_sum']]\n",
    "X_test = df_summarized\n"
   ]
  },
  {
   "cell_type": "code",
   "execution_count": 66,
   "metadata": {},
   "outputs": [
    {
     "data": {
      "text/plain": [
       "(330, 1)"
      ]
     },
     "execution_count": 66,
     "metadata": {},
     "output_type": "execute_result"
    }
   ],
   "source": [
    "annual_prem.shape"
   ]
  },
  {
   "cell_type": "code",
   "execution_count": 187,
   "metadata": {},
   "outputs": [],
   "source": [
    "annual_prem=annual_prem.to_numpy()"
   ]
  },
  {
   "cell_type": "code",
   "execution_count": 181,
   "metadata": {},
   "outputs": [
    {
     "data": {
      "text/plain": [
       "(330, 5)"
      ]
     },
     "execution_count": 181,
     "metadata": {},
     "output_type": "execute_result"
    }
   ],
   "source": [
    "X_train.shape"
   ]
  },
  {
   "cell_type": "code",
   "execution_count": 182,
   "metadata": {},
   "outputs": [
    {
     "data": {
      "text/plain": [
       "(660, 5)"
      ]
     },
     "execution_count": 182,
     "metadata": {},
     "output_type": "execute_result"
    }
   ],
   "source": [
    "X_test.shape"
   ]
  },
  {
   "cell_type": "code",
   "execution_count": 183,
   "metadata": {},
   "outputs": [],
   "source": [
    "# Import the model we are using\n",
    "from sklearn.ensemble import RandomForestRegressor\n",
    "# Instantiate model with 1000 decision trees\n",
    "rf = RandomForestRegressor(n_estimators = 12, random_state = 42)\n",
    "# Train the model on training data\n",
    "rf.fit(X_train, y_train)\n",
    "\n",
    "# Use the forest's predict method on the test data\n",
    "y_pred = rf.predict(X_test)\n",
    "#print(sqrt(mean_squared_error(y_test, y_pred)))"
   ]
  },
  {
   "cell_type": "code",
   "execution_count": 146,
   "metadata": {},
   "outputs": [],
   "source": [
    "from sklearn.linear_model import LinearRegression\n",
    "reg = LinearRegression().fit(X_train, y_train)\n",
    "y_pred1=reg.predict(X_test)"
   ]
  },
  {
   "cell_type": "code",
   "execution_count": 147,
   "metadata": {},
   "outputs": [
    {
     "name": "stdout",
     "output_type": "stream",
     "text": [
      "19003013.6145663\n"
     ]
    }
   ],
   "source": [
    "from math import sqrt\n",
    "from sklearn.metrics import mean_squared_error\n",
    "\n",
    "print(sqrt(mean_squared_error(y_pred1, y_pred)))"
   ]
  },
  {
   "cell_type": "code",
   "execution_count": 124,
   "metadata": {},
   "outputs": [
    {
     "data": {
      "text/plain": [
       "(330, 1)"
      ]
     },
     "execution_count": 124,
     "metadata": {},
     "output_type": "execute_result"
    }
   ],
   "source": [
    "y_pred1.shape"
   ]
  },
  {
   "cell_type": "code",
   "execution_count": null,
   "metadata": {},
   "outputs": [],
   "source": []
  },
  {
   "cell_type": "code",
   "execution_count": 188,
   "metadata": {},
   "outputs": [],
   "source": [
    "ln_ratio=[]\n",
    "for i in range(330):\n",
    "    ln_ratio.append(np.log(y_pred[i]/annual_prem[i]))"
   ]
  },
  {
   "cell_type": "code",
   "execution_count": 189,
   "metadata": {},
   "outputs": [],
   "source": [
    "i=0\n",
    "l_ratio=[]\n",
    "for i in range(330):\n",
    "    l_ratio.append(ln_ratio[i][0])\n",
    "#l_ratio"
   ]
  },
  {
   "cell_type": "code",
   "execution_count": 190,
   "metadata": {},
   "outputs": [],
   "source": [
    "df=pd.DataFrame(list(zip(summary,l_ratio)),columns=['ID','ln_LR'])"
   ]
  },
  {
   "cell_type": "code",
   "execution_count": 191,
   "metadata": {},
   "outputs": [],
   "source": [
    "export_csv = df.to_csv (r'predictions9.csv', index = None, header=True)"
   ]
  },
  {
   "cell_type": "code",
   "execution_count": 159,
   "metadata": {},
   "outputs": [
    {
     "data": {
      "text/html": [
       "<div>\n",
       "<style scoped>\n",
       "    .dataframe tbody tr th:only-of-type {\n",
       "        vertical-align: middle;\n",
       "    }\n",
       "\n",
       "    .dataframe tbody tr th {\n",
       "        vertical-align: top;\n",
       "    }\n",
       "\n",
       "    .dataframe thead th {\n",
       "        text-align: right;\n",
       "    }\n",
       "</style>\n",
       "<table border=\"1\" class=\"dataframe\">\n",
       "  <thead>\n",
       "    <tr style=\"text-align: right;\">\n",
       "      <th></th>\n",
       "      <th>ID</th>\n",
       "      <th>ln_LR</th>\n",
       "    </tr>\n",
       "  </thead>\n",
       "  <tbody>\n",
       "    <tr>\n",
       "      <th>0</th>\n",
       "      <td>test_portfolio_1.csv</td>\n",
       "      <td>2.867617</td>\n",
       "    </tr>\n",
       "    <tr>\n",
       "      <th>1</th>\n",
       "      <td>test_portfolio_10.csv</td>\n",
       "      <td>2.865573</td>\n",
       "    </tr>\n",
       "    <tr>\n",
       "      <th>2</th>\n",
       "      <td>test_portfolio_11.csv</td>\n",
       "      <td>2.910411</td>\n",
       "    </tr>\n",
       "    <tr>\n",
       "      <th>3</th>\n",
       "      <td>test_portfolio_111.csv</td>\n",
       "      <td>2.866329</td>\n",
       "    </tr>\n",
       "    <tr>\n",
       "      <th>4</th>\n",
       "      <td>test_portfolio_112.csv</td>\n",
       "      <td>2.849351</td>\n",
       "    </tr>\n",
       "  </tbody>\n",
       "</table>\n",
       "</div>"
      ],
      "text/plain": [
       "                       ID     ln_LR\n",
       "0    test_portfolio_1.csv  2.867617\n",
       "1   test_portfolio_10.csv  2.865573\n",
       "2   test_portfolio_11.csv  2.910411\n",
       "3  test_portfolio_111.csv  2.866329\n",
       "4  test_portfolio_112.csv  2.849351"
      ]
     },
     "execution_count": 159,
     "metadata": {},
     "output_type": "execute_result"
    }
   ],
   "source": [
    "df.head()"
   ]
  },
  {
   "cell_type": "code",
   "execution_count": null,
   "metadata": {},
   "outputs": [],
   "source": []
  }
 ],
 "metadata": {
  "kernelspec": {
   "display_name": "Python 3",
   "language": "python",
   "name": "python3"
  },
  "language_info": {
   "codemirror_mode": {
    "name": "ipython",
    "version": 3
   },
   "file_extension": ".py",
   "mimetype": "text/x-python",
   "name": "python",
   "nbconvert_exporter": "python",
   "pygments_lexer": "ipython3",
   "version": "3.7.3"
  }
 },
 "nbformat": 4,
 "nbformat_minor": 4
}
